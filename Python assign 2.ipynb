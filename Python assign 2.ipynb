{
 "cells": [
  {
   "cell_type": "code",
   "execution_count": 8,
   "metadata": {},
   "outputs": [
    {
     "name": "stdout",
     "output_type": "stream",
     "text": [
      "Enter English Marks:76\n",
      "Enter Urdu Marks:87\n",
      "Enter Math Marks:98\n",
      "Enter Science Marks:79\n",
      "Enter History Marks:98\n",
      "Total is\n",
      "438\n",
      "Grade A+\n"
     ]
    }
   ],
   "source": [
    "a = int(input(\"Enter English Marks:\"));\n",
    "b = int(input(\"Enter Urdu Marks:\"));\n",
    "c = int(input(\"Enter Math Marks:\"));\n",
    "d = int(input(\"Enter Science Marks:\"));\n",
    "e = int(input(\"Enter History Marks:\"));\n",
    "total = a + b + c + d + e\n",
    "print(\"Total is\")\n",
    "print(total);\n",
    "per = (total / 500) * 100;\n",
    "if per >= 80 and per <= 100:\n",
    "    print(\"Grade A+\")\n",
    "elif per >= 70 and per <= 79:\n",
    "    print(\"Grade A\")\n",
    "elif per >= 60 and per <= 69:\n",
    "    print(\"Grade B\")\n",
    "elif per >= 50 and per <= 59:\n",
    "    print(\"Grade C\")\n",
    "elif per >=40 and per <=49: \n",
    "    print(\"Grade D\") \n",
    "else:\n",
    "    print(\"Grade F\")"
   ]
  },
  {
   "cell_type": "code",
   "execution_count": 10,
   "metadata": {},
   "outputs": [
    {
     "name": "stdout",
     "output_type": "stream",
     "text": [
      " Enter Number:6\n",
      " The number is Even\n"
     ]
    }
   ],
   "source": [
    "a = int(input(\" Enter Number:\"));\n",
    "if a % 2 == 0:\n",
    "    print(\" The number is Even\")\n",
    "else:\n",
    "    print(\" The number is odd\")"
   ]
  },
  {
   "cell_type": "code",
   "execution_count": 17,
   "metadata": {},
   "outputs": [
    {
     "data": {
      "text/plain": [
       "5"
      ]
     },
     "execution_count": 17,
     "metadata": {},
     "output_type": "execute_result"
    }
   ],
   "source": [
    "name = [\"sara\", \"ali\", 67, 0.9, \"true\"]\n",
    "len(name)"
   ]
  },
  {
   "cell_type": "code",
   "execution_count": 23,
   "metadata": {},
   "outputs": [
    {
     "name": "stdout",
     "output_type": "stream",
     "text": [
      "total is 77.9\n"
     ]
    }
   ],
   "source": [
    "name = [6, 4, 67, 0.9]\n",
    "total = sum(name)\n",
    "print(\"total is\", total)\n",
    "    "
   ]
  },
  {
   "cell_type": "code",
   "execution_count": 22,
   "metadata": {},
   "outputs": [
    {
     "name": "stdout",
     "output_type": "stream",
     "text": [
      "larger number is 77\n"
     ]
    }
   ],
   "source": [
    "name = [6, 77, 58, 2.9]\n",
    "total = max(name)\n",
    "print(\"larger number is\", total)"
   ]
  },
  {
   "cell_type": "code",
   "execution_count": 31,
   "metadata": {},
   "outputs": [
    {
     "ename": "TypeError",
     "evalue": "'>=' not supported between instances of 'list' and 'int'",
     "output_type": "error",
     "traceback": [
      "\u001b[1;31m---------------------------------------------------------------------------\u001b[0m",
      "\u001b[1;31mTypeError\u001b[0m                                 Traceback (most recent call last)",
      "\u001b[1;32m<ipython-input-31-4c96a1a9f5a6>\u001b[0m in \u001b[0;36m<module>\u001b[1;34m\u001b[0m\n\u001b[0;32m      1\u001b[0m \u001b[0mname\u001b[0m \u001b[1;33m=\u001b[0m \u001b[1;33m[\u001b[0m\u001b[1;36m6\u001b[0m\u001b[1;33m,\u001b[0m \u001b[1;36m4\u001b[0m\u001b[1;33m,\u001b[0m \u001b[1;36m67\u001b[0m\u001b[1;33m,\u001b[0m \u001b[1;36m0.9\u001b[0m\u001b[1;33m,\u001b[0m \u001b[1;36m2\u001b[0m\u001b[1;33m,\u001b[0m \u001b[1;36m3\u001b[0m\u001b[1;33m,\u001b[0m \u001b[1;36m6\u001b[0m\u001b[1;33m]\u001b[0m\u001b[1;33m\u001b[0m\u001b[1;33m\u001b[0m\u001b[0m\n\u001b[1;32m----> 2\u001b[1;33m \u001b[1;32mif\u001b[0m \u001b[0mname\u001b[0m \u001b[1;33m>=\u001b[0m \u001b[1;36m5\u001b[0m\u001b[1;33m:\u001b[0m\u001b[1;33m\u001b[0m\u001b[1;33m\u001b[0m\u001b[0m\n\u001b[0m\u001b[0;32m      3\u001b[0m     \u001b[0mprint\u001b[0m\u001b[1;33m(\u001b[0m\u001b[0mname\u001b[0m\u001b[1;33m)\u001b[0m\u001b[1;33m\u001b[0m\u001b[1;33m\u001b[0m\u001b[0m\n",
      "\u001b[1;31mTypeError\u001b[0m: '>=' not supported between instances of 'list' and 'int'"
     ]
    }
   ],
   "source": [
    "name = [6, 4, 67, 0.9, 2, 3, 6]\n",
    "total = check(name)\n",
    "print(\"larger number is\", total)"
   ]
  },
  {
   "cell_type": "code",
   "execution_count": null,
   "metadata": {},
   "outputs": [],
   "source": []
  }
 ],
 "metadata": {
  "kernelspec": {
   "display_name": "Python 3",
   "language": "python",
   "name": "python3"
  },
  "language_info": {
   "codemirror_mode": {
    "name": "ipython",
    "version": 3
   },
   "file_extension": ".py",
   "mimetype": "text/x-python",
   "name": "python",
   "nbconvert_exporter": "python",
   "pygments_lexer": "ipython3",
   "version": "3.7.4"
  }
 },
 "nbformat": 4,
 "nbformat_minor": 2
}
