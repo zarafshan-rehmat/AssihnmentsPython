{
 "cells": [
  {
   "cell_type": "code",
   "execution_count": 1,
   "metadata": {},
   "outputs": [
    {
     "name": "stdout",
     "output_type": "stream",
     "text": [
      "Enter First number:8\n",
      "Enter Secind number:2\n",
      "Enter Operator:-\n",
      "6\n"
     ]
    }
   ],
   "source": [
    "# Assign Q 1\n",
    "a = int(input(\"Enter First number:\"))\n",
    "b = int(input(\"Enter Secind number:\"))\n",
    "c = input(\"Enter Operator:\")\n",
    "if c == '+':\n",
    "    val = a + b\n",
    "    print(val)\n",
    "elif c == '-':\n",
    "    val = a - b\n",
    "    print(val)\n",
    "elif c == '*':\n",
    "    val = a * b\n",
    "    print(val)\n",
    "elif c == '/':\n",
    "    val = a / b\n",
    "    print(val)\n",
    "else:\n",
    "    print(\"Invalid Operator\")"
   ]
  },
  {
   "cell_type": "code",
   "execution_count": 13,
   "metadata": {},
   "outputs": [
    {
     "name": "stdout",
     "output_type": "stream",
     "text": [
      "Number Exist 5\n",
      "Number Exist 154.25\n",
      "Number Exist 45\n"
     ]
    }
   ],
   "source": [
    "# Assign Q 2\n",
    "list = [\"saima\", 'true', 5, 154.25, 45]\n",
    "\n",
    "for i in list:\n",
    "    if type(i) == int or type(i) == float:\n",
    "        print(\"Number Exist\", i)       "
   ]
  },
  {
   "cell_type": "code",
   "execution_count": 18,
   "metadata": {},
   "outputs": [
    {
     "name": "stdout",
     "output_type": "stream",
     "text": [
      "before updating\n",
      "data['Name'] Saima\n",
      "data['Age'] 20\n",
      "data['Depart'] CSIT\n",
      "before updating\n",
      "data['Name'] Saima\n",
      "data['Age'] 40\n",
      "data['Depart'] CSIT\n"
     ]
    }
   ],
   "source": [
    "# Assign Q 3\n",
    "data = { 'Name': 'Saima', 'Age': 20, 'Depart': 'CSIT'}\n",
    "print(\"before updating\")\n",
    "print(\"data['Name']\", data['Name'])\n",
    "print(\"data['Age']\", data['Age'])\n",
    "print(\"data['Depart']\", data['Depart'])\n",
    "\n",
    "print(\"before updating\")\n",
    "data['Age'] = 40\n",
    "print(\"data['Name']\", data['Name'])\n",
    "print(\"data['Age']\", data['Age'])\n",
    "print(\"data['Depart']\", data['Depart'])\n"
   ]
  },
  {
   "cell_type": "code",
   "execution_count": 19,
   "metadata": {},
   "outputs": [
    {
     "name": "stdout",
     "output_type": "stream",
     "text": [
      "sum is 155\n"
     ]
    }
   ],
   "source": [
    "data = {'num1': 24, 'num2': 46, 'num3': 85}\n",
    "sum = 0 \n",
    "for i in data.values():\n",
    "    sum = sum + i\n",
    "print(\"sum is\", sum)"
   ]
  },
  {
   "cell_type": "code",
   "execution_count": 21,
   "metadata": {},
   "outputs": [
    {
     "name": "stdout",
     "output_type": "stream",
     "text": [
      "Duplicate Number are:  45\n",
      "Duplicate Number are:  6\n",
      "Duplicate Number are:  15\n"
     ]
    }
   ],
   "source": [
    "list = [15, 45, 6, 15, 45, 10, 6]\n",
    "for  i in set(list):\n",
    "    if list.count(i) > 1:\n",
    "        print(\"Duplicate Number are: \", i  )"
   ]
  },
  {
   "cell_type": "code",
   "execution_count": 29,
   "metadata": {},
   "outputs": [
    {
     "name": "stdout",
     "output_type": "stream",
     "text": [
      "{'num1': 12, 'num2': 25, 'nu3': 12, 'n': 25, 'num': 2, 'nu': 5}\n",
      "enter key :25\n"
     ]
    },
    {
     "ename": "AttributeError",
     "evalue": "'dict' object has no attribute 'value'",
     "output_type": "error",
     "traceback": [
      "\u001b[1;31m---------------------------------------------------------------------------\u001b[0m",
      "\u001b[1;31mAttributeError\u001b[0m                            Traceback (most recent call last)",
      "\u001b[1;32m<ipython-input-29-76b87d2086e7>\u001b[0m in \u001b[0;36m<module>\u001b[1;34m\u001b[0m\n\u001b[0;32m      3\u001b[0m \u001b[0ma\u001b[0m \u001b[1;33m=\u001b[0m \u001b[0mint\u001b[0m\u001b[1;33m(\u001b[0m\u001b[0minput\u001b[0m\u001b[1;33m(\u001b[0m\u001b[1;34m\"enter key :\"\u001b[0m\u001b[1;33m)\u001b[0m\u001b[1;33m)\u001b[0m\u001b[1;33m\u001b[0m\u001b[1;33m\u001b[0m\u001b[0m\n\u001b[0;32m      4\u001b[0m \u001b[1;33m\u001b[0m\u001b[0m\n\u001b[1;32m----> 5\u001b[1;33m \u001b[1;32mfor\u001b[0m \u001b[0mi\u001b[0m \u001b[1;32min\u001b[0m \u001b[0mlist\u001b[0m\u001b[1;33m.\u001b[0m\u001b[0mvalue\u001b[0m\u001b[1;33m(\u001b[0m\u001b[1;33m)\u001b[0m\u001b[1;33m:\u001b[0m\u001b[1;33m\u001b[0m\u001b[1;33m\u001b[0m\u001b[0m\n\u001b[0m\u001b[0;32m      6\u001b[0m     \u001b[1;32mif\u001b[0m \u001b[0mlist\u001b[0m\u001b[1;33m.\u001b[0m\u001b[0mvalues\u001b[0m\u001b[1;33m(\u001b[0m\u001b[0mi\u001b[0m\u001b[1;33m)\u001b[0m \u001b[1;33m==\u001b[0m \u001b[0ma\u001b[0m\u001b[1;33m:\u001b[0m\u001b[1;33m\u001b[0m\u001b[1;33m\u001b[0m\u001b[0m\n\u001b[0;32m      7\u001b[0m         \u001b[0mprint\u001b[0m\u001b[1;33m(\u001b[0m\u001b[1;34m\"key exist\"\u001b[0m\u001b[1;33m)\u001b[0m\u001b[1;33m\u001b[0m\u001b[1;33m\u001b[0m\u001b[0m\n",
      "\u001b[1;31mAttributeError\u001b[0m: 'dict' object has no attribute 'value'"
     ]
    }
   ],
   "source": [
    "list = {'num1': 12, 'num2': 25, 'nu3': 12, 'n': 25, 'num': 2, 'nu': 5,}\n",
    "print(list)\n",
    "a = int(input(\"enter key :\"))\n",
    "\n",
    "for i in list.value():\n",
    "    if list.values(i) == a: \n",
    "        print(\"key exist\")"
   ]
  },
  {
   "cell_type": "code",
   "execution_count": null,
   "metadata": {},
   "outputs": [],
   "source": []
  }
 ],
 "metadata": {
  "kernelspec": {
   "display_name": "Python 3",
   "language": "python",
   "name": "python3"
  },
  "language_info": {
   "codemirror_mode": {
    "name": "ipython",
    "version": 3
   },
   "file_extension": ".py",
   "mimetype": "text/x-python",
   "name": "python",
   "nbconvert_exporter": "python",
   "pygments_lexer": "ipython3",
   "version": "3.7.4"
  }
 },
 "nbformat": 4,
 "nbformat_minor": 2
}
