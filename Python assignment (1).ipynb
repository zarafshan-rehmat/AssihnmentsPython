{
 "cells": [
  {
   "cell_type": "code",
   "execution_count": 1,
   "metadata": {},
   "outputs": [
    {
     "name": "stdout",
     "output_type": "stream",
     "text": [
      "Twinkle, Twinkle, Little Star,\n",
      "    How I wonder what you are!\n",
      "         Up above the world so high,\n",
      "         like a diamond in the sky.\n",
      "Twinkle, Twinkle, Little Star,\n",
      "    How I wonder what you are!\n"
     ]
    }
   ],
   "source": [
    "print(\"Twinkle, Twinkle, Little Star,\")\n",
    "print(\"    How I wonder what you are!\")\n",
    "print(\"         Up above the world so high,\")\n",
    "print(\"         like a diamond in the sky.\")\n",
    "print(\"Twinkle, Twinkle, Little Star,\")\n",
    "print(\"    How I wonder what you are!\")"
   ]
  },
  {
   "cell_type": "code",
   "execution_count": 2,
   "metadata": {},
   "outputs": [
    {
     "name": "stdout",
     "output_type": "stream",
     "text": [
      "3.7.4 (default, Aug  9 2019, 18:34:13) [MSC v.1915 64 bit (AMD64)]\n"
     ]
    }
   ],
   "source": [
    "import sys\n",
    "print(sys.version)"
   ]
  },
  {
   "cell_type": "code",
   "execution_count": 3,
   "metadata": {},
   "outputs": [
    {
     "name": "stdout",
     "output_type": "stream",
     "text": [
      "2019-11-04 22:10:32.989753\n"
     ]
    }
   ],
   "source": [
    "from datetime import datetime\n",
    "print(datetime.now())"
   ]
  },
  {
   "cell_type": "code",
   "execution_count": 4,
   "metadata": {},
   "outputs": [
    {
     "name": "stdout",
     "output_type": "stream",
     "text": [
      "Enter radious of circle5.36\n",
      "90.26840320000001\n"
     ]
    }
   ],
   "source": [
    "rad = float(input(\"Enter radious of circle\"))\n",
    "a = 3.142*rad*rad\n",
    "print(a)"
   ]
  },
  {
   "cell_type": "code",
   "execution_count": 6,
   "metadata": {},
   "outputs": [
    {
     "name": "stdout",
     "output_type": "stream",
     "text": [
      " Enter your first name: zarafshan\n",
      "Enter your last name: rehmat\n",
      "rehmat zarafshan\n"
     ]
    }
   ],
   "source": [
    "first_name = input(\" Enter your first name: \")\n",
    "last_name  = input(\"Enter your last name: \")\n",
    "print(last_name + \" \" + first_name)"
   ]
  },
  {
   "cell_type": "code",
   "execution_count": 9,
   "metadata": {},
   "outputs": [
    {
     "name": "stdout",
     "output_type": "stream",
     "text": [
      " Enter  first number: 7\n",
      "Enter last number: 8\n",
      "15\n"
     ]
    }
   ],
   "source": [
    "a = int(input(\" Enter  first number: \"))\n",
    "b = int(input(\"Enter last number: \"))\n",
    "c = a + b\n",
    "print(c)"
   ]
  },
  {
   "cell_type": "code",
   "execution_count": null,
   "metadata": {},
   "outputs": [],
   "source": []
  }
 ],
 "metadata": {
  "kernelspec": {
   "display_name": "Python 3",
   "language": "python",
   "name": "python3"
  },
  "language_info": {
   "codemirror_mode": {
    "name": "ipython",
    "version": 3
   },
   "file_extension": ".py",
   "mimetype": "text/x-python",
   "name": "python",
   "nbconvert_exporter": "python",
   "pygments_lexer": "ipython3",
   "version": "3.7.4"
  }
 },
 "nbformat": 4,
 "nbformat_minor": 2
}
